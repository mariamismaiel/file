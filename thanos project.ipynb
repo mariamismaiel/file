{
 "cells": [
  {
   "cell_type": "code",
   "execution_count": 73,
   "id": "b5069e3e",
   "metadata": {},
   "outputs": [],
   "source": [
    "import os"
   ]
  },
  {
   "cell_type": "code",
   "execution_count": 74,
   "id": "0ec8eed5",
   "metadata": {},
   "outputs": [],
   "source": [
    "def image_name():\n",
    "    return(os.listdir('universe'))"
   ]
  },
  {
   "cell_type": "code",
   "execution_count": 75,
   "id": "fa977694",
   "metadata": {},
   "outputs": [
    {
     "name": "stdout",
     "output_type": "stream",
     "text": [
      "['cover001.png', 'cover002.png', 'cover003.png', 'cover004.png', 'cover005.png', 'cover006.png', 'cover007.png', 'cover008.png', 'cover009.png', 'cover010.png', 'cover011.png', 'cover012.png', 'cover013.png', 'cover014.png', 'cover015.png', 'cover016.png', 'cover017.png', 'cover018.png', 'cover019.png', 'cover020.png', 'cover021.png', 'cover022.png', 'cover023.png', 'cover024.png', 'cover025.png', 'cover026.png', 'cover027.png', 'cover028.png', 'cover029.png', 'cover030.png', 'cover031.png', 'cover032.png', 'cover033.png', 'cover034.png', 'cover035.png', 'cover036.png', 'cover037.png', 'cover038.png', 'cover039.png', 'cover040.png', 'cover041.png', 'cover042.png', 'cover043.png', 'cover044.png', 'cover045.png', 'cover046.png', 'cover047.png', 'cover048.png', 'cover049.png', 'cover050.png']\n"
     ]
    }
   ],
   "source": [
    " l=image_name()\n",
    "print(l)"
   ]
  },
  {
   "cell_type": "code",
   "execution_count": 76,
   "id": "f8c3609f",
   "metadata": {},
   "outputs": [],
   "source": [
    "def half_pop(l):\n",
    "    return(int(len(l)/2))"
   ]
  },
  {
   "cell_type": "code",
   "execution_count": 77,
   "id": "dac05e43",
   "metadata": {},
   "outputs": [
    {
     "data": {
      "text/plain": [
       "25"
      ]
     },
     "execution_count": 77,
     "metadata": {},
     "output_type": "execute_result"
    }
   ],
   "source": [
    "no=half_pop(l)\n",
    "no"
   ]
  },
  {
   "cell_type": "code",
   "execution_count": 78,
   "id": "d5808c46",
   "metadata": {},
   "outputs": [],
   "source": [
    "import random\n",
    "import time\n",
    "def kill_half():\n",
    "    no=half_pop(l)\n",
    "    for i in range(no):\n",
    "        ch=random.choice(l)\n",
    "        l.remove(ch)\n",
    "        path = os.path.join('universe', ch)\n",
    "        os.remove(path)\n",
    "        print(f'done kill{ch}')\n",
    "        time.sleep(2)\n",
    "        \n",
    "    "
   ]
  },
  {
   "cell_type": "code",
   "execution_count": 80,
   "id": "76904a5b",
   "metadata": {},
   "outputs": [
    {
     "name": "stdout",
     "output_type": "stream",
     "text": [
      "done killcover013.png\n",
      "done killcover044.png\n",
      "done killcover041.png\n",
      "done killcover014.png\n",
      "done killcover015.png\n",
      "done killcover050.png\n",
      "done killcover001.png\n",
      "done killcover023.png\n",
      "done killcover016.png\n",
      "done killcover018.png\n",
      "done killcover010.png\n",
      "done killcover026.png\n"
     ]
    }
   ],
   "source": [
    " kill_half()"
   ]
  },
  {
   "cell_type": "code",
   "execution_count": 109,
   "id": "b1c4d707",
   "metadata": {},
   "outputs": [],
   "source": [
    "import shutil\n",
    "def back_up():\n",
    "    backup=os.listdir(\"backup\")\n",
    "    for i in range(len(backup)):\n",
    "        path = os.path.join('backup', backup[i])\n",
    "        shutil.copy(path,\"universe\")\n",
    "    "
   ]
  },
  {
   "cell_type": "code",
   "execution_count": 110,
   "id": "4e649873",
   "metadata": {},
   "outputs": [],
   "source": [
    " back_up()"
   ]
  },
  {
   "cell_type": "code",
   "execution_count": null,
   "id": "614e5105",
   "metadata": {},
   "outputs": [],
   "source": []
  }
 ],
 "metadata": {
  "kernelspec": {
   "display_name": "Python 3",
   "language": "python",
   "name": "python3"
  },
  "language_info": {
   "codemirror_mode": {
    "name": "ipython",
    "version": 3
   },
   "file_extension": ".py",
   "mimetype": "text/x-python",
   "name": "python",
   "nbconvert_exporter": "python",
   "pygments_lexer": "ipython3",
   "version": "3.8.8"
  }
 },
 "nbformat": 4,
 "nbformat_minor": 5
}
